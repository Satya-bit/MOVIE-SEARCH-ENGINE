{
 "cells": [
  {
   "cell_type": "code",
   "execution_count": 114,
   "metadata": {},
   "outputs": [],
   "source": [
    "#Satya Shah\n",
    "#Assigment-2\n",
    "#UTA ID-1002161494\n",
    "\n",
    "#Fetching Dataset from Kaggle\n",
    "import kaggle\n",
    "import pandas as pd\n",
    "import zipfile\n",
    "from sentence_transformers import SentenceTransformer\n",
    "# from elasticsearch import Elasticsearch\n",
    "\n",
    "kaggle.api.authenticate()\n",
    "dataset = \"harshitshankhdhar/imdb-dataset-of-top-1000-movies-and-tv-shows\"\n",
    "kaggle.api.dataset_download_files(dataset)\n",
    "\n",
    "with zipfile.ZipFile(\n",
    "    \"imdb-dataset-of-top-1000-movies-and-tv-shows.zip\", \"r\"\n",
    ") as zip_ref:\n",
    "    zip_ref.extractall(\".\")\n",
    "\n",
    "movies = pd.read_csv(\"imdb_top_1000.csv\")\n",
    "movies = movies[[\"Series_Title\",\"Genre\",\"Director\", \"Overview\"]]\n"
   ]
  },
  {
   "cell_type": "code",
   "execution_count": 115,
   "metadata": {},
   "outputs": [
    {
     "data": {
      "text/html": [
       "<div>\n",
       "<style scoped>\n",
       "    .dataframe tbody tr th:only-of-type {\n",
       "        vertical-align: middle;\n",
       "    }\n",
       "\n",
       "    .dataframe tbody tr th {\n",
       "        vertical-align: top;\n",
       "    }\n",
       "\n",
       "    .dataframe thead th {\n",
       "        text-align: right;\n",
       "    }\n",
       "</style>\n",
       "<table border=\"1\" class=\"dataframe\">\n",
       "  <thead>\n",
       "    <tr style=\"text-align: right;\">\n",
       "      <th></th>\n",
       "      <th>Series_Title</th>\n",
       "      <th>Genre</th>\n",
       "      <th>Director</th>\n",
       "      <th>Overview</th>\n",
       "      <th>find</th>\n",
       "    </tr>\n",
       "  </thead>\n",
       "  <tbody>\n",
       "    <tr>\n",
       "      <th>0</th>\n",
       "      <td>The Shawshank Redemption</td>\n",
       "      <td>Drama</td>\n",
       "      <td>Frank Darabont</td>\n",
       "      <td>Two imprisoned men bond over a number of years...</td>\n",
       "      <td>Frank Darabont Two imprisoned men bond over a ...</td>\n",
       "    </tr>\n",
       "    <tr>\n",
       "      <th>1</th>\n",
       "      <td>The Godfather</td>\n",
       "      <td>Crime, Drama</td>\n",
       "      <td>Francis Ford Coppola</td>\n",
       "      <td>An organized crime dynasty's aging patriarch t...</td>\n",
       "      <td>Francis Ford Coppola An organized crime dynast...</td>\n",
       "    </tr>\n",
       "    <tr>\n",
       "      <th>2</th>\n",
       "      <td>The Dark Knight</td>\n",
       "      <td>Action, Crime, Drama</td>\n",
       "      <td>Christopher Nolan</td>\n",
       "      <td>When the menace known as the Joker wreaks havo...</td>\n",
       "      <td>Christopher Nolan When the menace known as the...</td>\n",
       "    </tr>\n",
       "    <tr>\n",
       "      <th>3</th>\n",
       "      <td>The Godfather: Part II</td>\n",
       "      <td>Crime, Drama</td>\n",
       "      <td>Francis Ford Coppola</td>\n",
       "      <td>The early life and career of Vito Corleone in ...</td>\n",
       "      <td>Francis Ford Coppola The early life and career...</td>\n",
       "    </tr>\n",
       "    <tr>\n",
       "      <th>4</th>\n",
       "      <td>12 Angry Men</td>\n",
       "      <td>Crime, Drama</td>\n",
       "      <td>Sidney Lumet</td>\n",
       "      <td>A jury holdout attempts to prevent a miscarria...</td>\n",
       "      <td>Sidney Lumet A jury holdout attempts to preven...</td>\n",
       "    </tr>\n",
       "  </tbody>\n",
       "</table>\n",
       "</div>"
      ],
      "text/plain": [
       "               Series_Title                 Genre              Director  \\\n",
       "0  The Shawshank Redemption                 Drama        Frank Darabont   \n",
       "1             The Godfather          Crime, Drama  Francis Ford Coppola   \n",
       "2           The Dark Knight  Action, Crime, Drama     Christopher Nolan   \n",
       "3    The Godfather: Part II          Crime, Drama  Francis Ford Coppola   \n",
       "4              12 Angry Men          Crime, Drama          Sidney Lumet   \n",
       "\n",
       "                                            Overview  \\\n",
       "0  Two imprisoned men bond over a number of years...   \n",
       "1  An organized crime dynasty's aging patriarch t...   \n",
       "2  When the menace known as the Joker wreaks havo...   \n",
       "3  The early life and career of Vito Corleone in ...   \n",
       "4  A jury holdout attempts to prevent a miscarria...   \n",
       "\n",
       "                                                find  \n",
       "0  Frank Darabont Two imprisoned men bond over a ...  \n",
       "1  Francis Ford Coppola An organized crime dynast...  \n",
       "2  Christopher Nolan When the menace known as the...  \n",
       "3  Francis Ford Coppola The early life and career...  \n",
       "4  Sidney Lumet A jury holdout attempts to preven...  "
      ]
     },
     "execution_count": 115,
     "metadata": {},
     "output_type": "execute_result"
    }
   ],
   "source": [
    "#Concatenate \n",
    "movies['find'] = movies['Director'] + ' ' + movies['Overview'] + ' ' + movies['Series_Title']+' '+movies['Genre']\n",
    "movies.head()"
   ]
  },
  {
   "cell_type": "code",
   "execution_count": 116,
   "metadata": {},
   "outputs": [
    {
     "data": {
      "text/plain": [
       "True"
      ]
     },
     "execution_count": 116,
     "metadata": {},
     "output_type": "execute_result"
    }
   ],
   "source": [
    "#Connecting to elasticsearch Server\n",
    "from elasticsearch import Elasticsearch\n",
    "import base64\n",
    "\n",
    "# Encode the username and password\n",
    "username = \"satya2610\"\n",
    "password = \"satya2610\"\n",
    "credentials = f\"{username}:{password}\"\n",
    "encoded_credentials = base64.b64encode(credentials.encode()).decode()\n",
    "\n",
    "es = Elasticsearch(\n",
    "    \"http://localhost:9200\",\n",
    "    headers={\"Authorization\": f\"Basic {encoded_credentials}\"},\n",
    "\n",
    "    request_timeout=300\n",
    ")\n",
    "\n",
    "es.ping()\n"
   ]
  },
  {
   "cell_type": "code",
   "execution_count": 117,
   "metadata": {},
   "outputs": [
    {
     "data": {
      "text/plain": [
       "Series_Title  Genre  Director  Overview  find \n",
       "False         False  False     False     False    1000\n",
       "dtype: int64"
      ]
     },
     "execution_count": 117,
     "metadata": {},
     "output_type": "execute_result"
    }
   ],
   "source": [
    "movies.isna().value_counts()\n"
   ]
  },
  {
   "cell_type": "code",
   "execution_count": 118,
   "metadata": {},
   "outputs": [],
   "source": [
    "#Applying transformer\n",
    "from sentence_transformers import SentenceTransformer\n",
    "model = SentenceTransformer('all-mpnet-base-v2')\n"
   ]
  },
  {
   "cell_type": "code",
   "execution_count": 119,
   "metadata": {},
   "outputs": [
    {
     "data": {
      "text/html": [
       "<div>\n",
       "<style scoped>\n",
       "    .dataframe tbody tr th:only-of-type {\n",
       "        vertical-align: middle;\n",
       "    }\n",
       "\n",
       "    .dataframe tbody tr th {\n",
       "        vertical-align: top;\n",
       "    }\n",
       "\n",
       "    .dataframe thead th {\n",
       "        text-align: right;\n",
       "    }\n",
       "</style>\n",
       "<table border=\"1\" class=\"dataframe\">\n",
       "  <thead>\n",
       "    <tr style=\"text-align: right;\">\n",
       "      <th></th>\n",
       "      <th>Series_Title</th>\n",
       "      <th>Genre</th>\n",
       "      <th>Director</th>\n",
       "      <th>Overview</th>\n",
       "      <th>find</th>\n",
       "      <th>OverviewVector</th>\n",
       "    </tr>\n",
       "  </thead>\n",
       "  <tbody>\n",
       "    <tr>\n",
       "      <th>0</th>\n",
       "      <td>The Shawshank Redemption</td>\n",
       "      <td>Drama</td>\n",
       "      <td>Frank Darabont</td>\n",
       "      <td>Two imprisoned men bond over a number of years...</td>\n",
       "      <td>Frank Darabont Two imprisoned men bond over a ...</td>\n",
       "      <td>[0.015105659, 0.07558362, 0.0033601949, 0.0132...</td>\n",
       "    </tr>\n",
       "    <tr>\n",
       "      <th>1</th>\n",
       "      <td>The Godfather</td>\n",
       "      <td>Crime, Drama</td>\n",
       "      <td>Francis Ford Coppola</td>\n",
       "      <td>An organized crime dynasty's aging patriarch t...</td>\n",
       "      <td>Francis Ford Coppola An organized crime dynast...</td>\n",
       "      <td>[-0.02563735, 0.10421361, 0.008409551, 0.06385...</td>\n",
       "    </tr>\n",
       "    <tr>\n",
       "      <th>2</th>\n",
       "      <td>The Dark Knight</td>\n",
       "      <td>Action, Crime, Drama</td>\n",
       "      <td>Christopher Nolan</td>\n",
       "      <td>When the menace known as the Joker wreaks havo...</td>\n",
       "      <td>Christopher Nolan When the menace known as the...</td>\n",
       "      <td>[0.033051766, 0.045696378, -0.010950332, -0.02...</td>\n",
       "    </tr>\n",
       "    <tr>\n",
       "      <th>3</th>\n",
       "      <td>The Godfather: Part II</td>\n",
       "      <td>Crime, Drama</td>\n",
       "      <td>Francis Ford Coppola</td>\n",
       "      <td>The early life and career of Vito Corleone in ...</td>\n",
       "      <td>Francis Ford Coppola The early life and career...</td>\n",
       "      <td>[-0.04727467, 0.1247385, 0.0004253284, 0.04073...</td>\n",
       "    </tr>\n",
       "    <tr>\n",
       "      <th>4</th>\n",
       "      <td>12 Angry Men</td>\n",
       "      <td>Crime, Drama</td>\n",
       "      <td>Sidney Lumet</td>\n",
       "      <td>A jury holdout attempts to prevent a miscarria...</td>\n",
       "      <td>Sidney Lumet A jury holdout attempts to preven...</td>\n",
       "      <td>[0.015930856, 0.011088762, 0.024285793, 0.0243...</td>\n",
       "    </tr>\n",
       "  </tbody>\n",
       "</table>\n",
       "</div>"
      ],
      "text/plain": [
       "               Series_Title                 Genre              Director  \\\n",
       "0  The Shawshank Redemption                 Drama        Frank Darabont   \n",
       "1             The Godfather          Crime, Drama  Francis Ford Coppola   \n",
       "2           The Dark Knight  Action, Crime, Drama     Christopher Nolan   \n",
       "3    The Godfather: Part II          Crime, Drama  Francis Ford Coppola   \n",
       "4              12 Angry Men          Crime, Drama          Sidney Lumet   \n",
       "\n",
       "                                            Overview  \\\n",
       "0  Two imprisoned men bond over a number of years...   \n",
       "1  An organized crime dynasty's aging patriarch t...   \n",
       "2  When the menace known as the Joker wreaks havo...   \n",
       "3  The early life and career of Vito Corleone in ...   \n",
       "4  A jury holdout attempts to prevent a miscarria...   \n",
       "\n",
       "                                                find  \\\n",
       "0  Frank Darabont Two imprisoned men bond over a ...   \n",
       "1  Francis Ford Coppola An organized crime dynast...   \n",
       "2  Christopher Nolan When the menace known as the...   \n",
       "3  Francis Ford Coppola The early life and career...   \n",
       "4  Sidney Lumet A jury holdout attempts to preven...   \n",
       "\n",
       "                                      OverviewVector  \n",
       "0  [0.015105659, 0.07558362, 0.0033601949, 0.0132...  \n",
       "1  [-0.02563735, 0.10421361, 0.008409551, 0.06385...  \n",
       "2  [0.033051766, 0.045696378, -0.010950332, -0.02...  \n",
       "3  [-0.04727467, 0.1247385, 0.0004253284, 0.04073...  \n",
       "4  [0.015930856, 0.011088762, 0.024285793, 0.0243...  "
      ]
     },
     "execution_count": 119,
     "metadata": {},
     "output_type": "execute_result"
    }
   ],
   "source": [
    "movies[\"OverviewVector\"] = movies[\"find\"].apply(lambda x: model.encode(x))\n",
    "movies.head()"
   ]
  },
  {
   "cell_type": "code",
   "execution_count": 120,
   "metadata": {},
   "outputs": [
    {
     "data": {
      "text/plain": [
       "True"
      ]
     },
     "execution_count": 120,
     "metadata": {},
     "output_type": "execute_result"
    }
   ],
   "source": [
    "es.ping()\n"
   ]
  },
  {
   "cell_type": "code",
   "execution_count": 121,
   "metadata": {},
   "outputs": [],
   "source": [
    "# # Update cluster settings to enable shard allocation\n",
    "# es.cluster.put_settings(body={\"transient\": {\"cluster.routing.allocation.enable\": \"all\"}})\n"
   ]
  },
  {
   "cell_type": "code",
   "execution_count": 122,
   "metadata": {},
   "outputs": [],
   "source": [
    "# cluster_health = es.cluster.health()\n",
    "# print(cluster_health)\n"
   ]
  },
  {
   "cell_type": "code",
   "execution_count": 123,
   "metadata": {},
   "outputs": [
    {
     "data": {
      "text/plain": [
       "ObjectApiResponse({'acknowledged': True, 'shards_acknowledged': True, 'index': 'satyashah'})"
      ]
     },
     "execution_count": 123,
     "metadata": {},
     "output_type": "execute_result"
    }
   ],
   "source": [
    "#Creating index in the ES database\n",
    "from indexMapping import indexMapping\n",
    "\n",
    "es.indices.create(index=\"satyashah\", mappings=indexMapping)\n"
   ]
  },
  {
   "cell_type": "code",
   "execution_count": 124,
   "metadata": {},
   "outputs": [],
   "source": [
    "record_list = movies.to_dict(\"records\")\n"
   ]
  },
  {
   "cell_type": "code",
   "execution_count": 125,
   "metadata": {},
   "outputs": [
    {
     "data": {
      "text/plain": [
       "{'Series_Title': 'The Shawshank Redemption',\n",
       " 'Genre': 'Drama',\n",
       " 'Director': 'Frank Darabont',\n",
       " 'Overview': 'Two imprisoned men bond over a number of years, finding solace and eventual redemption through acts of common decency.',\n",
       " 'find': 'Frank Darabont Two imprisoned men bond over a number of years, finding solace and eventual redemption through acts of common decency. The Shawshank Redemption Drama',\n",
       " 'OverviewVector': array([ 1.51056591e-02,  7.55836219e-02,  3.36019485e-03,  1.32937999e-02,\n",
       "        -3.50598171e-02,  4.95686345e-02,  2.75694709e-02, -2.94112340e-02,\n",
       "         3.84093449e-02, -2.03052219e-02, -1.40398908e-02,  5.56562319e-02,\n",
       "         2.14981418e-02, -3.01957410e-02, -1.35939261e-02, -5.04871309e-02,\n",
       "        -1.89914200e-02,  2.74084136e-02, -1.40913790e-02,  1.26707982e-02,\n",
       "         5.29568680e-02,  1.39234019e-02,  1.71606112e-02, -5.26667014e-02,\n",
       "        -1.32068177e-03, -4.08661291e-02,  1.97804719e-02,  2.53821053e-02,\n",
       "        -1.41185522e-02,  1.39139863e-02,  5.86653734e-03,  5.37667386e-02,\n",
       "         8.32099374e-03,  2.21488606e-02,  1.81262624e-06, -9.10758134e-03,\n",
       "         3.11802197e-02, -6.32492676e-02,  2.19258703e-02, -1.46685056e-02,\n",
       "         9.68541205e-03,  6.87220506e-03,  1.12762721e-02, -2.93019018e-03,\n",
       "         3.34715731e-02,  5.52896522e-02,  8.66196875e-04,  9.21835098e-03,\n",
       "         3.15083042e-02,  1.04443857e-03,  1.19388709e-02, -2.52928045e-02,\n",
       "        -2.28850301e-02, -4.41848263e-02, -7.36471713e-02,  1.17644509e-02,\n",
       "        -2.73667984e-02,  3.11899260e-02,  1.88385788e-02, -1.48307986e-03,\n",
       "        -4.66412902e-02, -3.74700949e-02, -3.94412838e-02, -3.29016410e-02,\n",
       "         2.28377581e-02, -6.21976294e-02, -2.09882464e-02,  8.74840247e-04,\n",
       "        -4.10112999e-02,  5.17856069e-02,  2.89827529e-02,  3.16179208e-02,\n",
       "        -2.06600502e-02,  6.15181774e-02,  2.40131393e-02, -6.75994251e-03,\n",
       "        -1.26103675e-02,  4.48507518e-02, -8.81878100e-03,  1.34979673e-02,\n",
       "        -1.02888979e-01, -9.14419442e-03,  1.53745653e-03, -7.92505126e-03,\n",
       "         2.88890004e-02, -4.58915457e-02,  3.97418486e-03, -6.60998374e-03,\n",
       "         2.68999692e-02, -2.87720095e-02,  4.44813110e-02, -4.25467826e-02,\n",
       "         3.26219462e-02,  6.22768840e-03,  2.48297378e-02, -3.96129908e-03,\n",
       "         4.39507104e-02,  2.57456792e-03, -1.13463812e-02, -2.87969187e-02,\n",
       "        -4.84584942e-02, -1.54299112e-02, -3.58900800e-02, -9.29097179e-03,\n",
       "        -4.00129966e-02,  3.93575802e-02,  2.95958165e-02,  2.80852919e-03,\n",
       "        -1.75079424e-02, -1.74030364e-02,  2.39475910e-02, -1.89426616e-02,\n",
       "        -2.57602111e-02,  4.51865718e-02, -1.70178618e-02, -8.91109649e-03,\n",
       "         2.62491070e-02,  1.10627022e-02,  1.34552289e-02,  6.84615970e-02,\n",
       "        -4.34917733e-02, -1.28323277e-02, -6.50174990e-02,  2.18360666e-02,\n",
       "        -3.05464752e-02, -1.88694969e-02, -8.12203363e-02, -1.05471592e-02,\n",
       "         3.07444092e-02,  2.18884703e-02, -3.54299545e-02, -1.39838532e-02,\n",
       "         8.43721814e-03,  1.51786497e-02, -2.28735302e-02,  3.02799847e-02,\n",
       "        -2.70100422e-02,  6.67519271e-02, -3.74051817e-02, -1.48964170e-02,\n",
       "        -3.11296806e-02, -3.48923653e-02, -7.17017949e-02,  1.11326976e-02,\n",
       "         2.10512392e-02, -2.14937553e-02, -1.17063297e-04, -5.74872419e-02,\n",
       "         2.71139145e-02,  1.05690463e-02,  2.66471766e-02,  7.62261823e-02,\n",
       "         8.96138325e-03,  5.47167938e-03, -1.62754231e-03,  1.86307039e-02,\n",
       "        -2.37164143e-02, -3.41851972e-02,  2.80822604e-03,  7.45149329e-02,\n",
       "         3.96066299e-03,  3.34093533e-02,  3.03386599e-02, -1.88052859e-02,\n",
       "        -2.73280647e-02, -3.58103514e-02, -1.70104913e-02, -2.73339897e-02,\n",
       "         4.69566323e-02,  5.64984940e-02, -3.51103246e-02, -3.98530997e-02,\n",
       "         2.86984071e-03,  9.67568345e-03, -7.02393651e-02,  9.30823684e-02,\n",
       "         4.07202840e-02, -2.79344264e-02, -1.54990423e-02,  9.94026288e-02,\n",
       "         6.74790423e-03,  4.51774476e-03, -2.82736830e-02,  2.86548063e-02,\n",
       "         8.25782195e-02,  8.58697575e-03, -2.62505878e-02, -1.70760415e-02,\n",
       "         1.94788841e-03,  2.59937234e-02, -1.52254058e-02, -3.62040997e-02,\n",
       "        -4.74343486e-02, -1.97345354e-02,  1.22373190e-03,  2.05488931e-02,\n",
       "        -9.73957591e-03, -5.15096225e-02,  5.23575358e-02, -6.46300148e-03,\n",
       "        -3.86454873e-02,  4.34864759e-02, -2.27083527e-02,  1.04382187e-01,\n",
       "         1.24273757e-02,  1.07329274e-02,  4.88840305e-05, -6.60872739e-03,\n",
       "         4.59463187e-02, -6.50418624e-02, -9.56663513e-04,  9.63649154e-03,\n",
       "         2.70757079e-02, -1.42248990e-02, -8.98497086e-03,  4.98284884e-02,\n",
       "        -3.80167016e-03, -1.04566552e-02, -9.60992128e-02, -2.51116846e-02,\n",
       "        -1.87169742e-02,  4.31524869e-03,  5.92163540e-02,  2.00340878e-02,\n",
       "         2.78107170e-02,  1.95996426e-02, -3.29249911e-02, -3.26566957e-02,\n",
       "         5.95728606e-02, -1.44755803e-02,  2.54475717e-02, -1.25605203e-02,\n",
       "         7.96034746e-03, -1.48756895e-02,  5.83153516e-02,  6.68478161e-02,\n",
       "        -2.68199854e-02, -9.21290647e-03, -4.16895263e-02, -1.10354021e-01,\n",
       "         1.03149051e-02,  3.59214991e-02, -2.85422360e-03,  7.15803914e-03,\n",
       "         4.30759564e-02,  2.14155838e-02, -3.05968933e-02, -4.18674313e-02,\n",
       "        -4.26554605e-02,  5.02829999e-03,  1.79965273e-02, -1.01510780e-02,\n",
       "        -1.44961458e-02, -7.41412072e-03,  2.16992553e-02, -5.71329407e-02,\n",
       "         2.16478240e-02,  6.86525702e-02,  8.37316662e-02,  5.15791774e-02,\n",
       "        -4.22768034e-02, -3.29838358e-02,  6.09778706e-03,  9.73399077e-03,\n",
       "         9.41326935e-03,  1.86697915e-02, -4.25876565e-02,  5.50136082e-02,\n",
       "        -1.13861067e-02, -1.66076683e-02, -1.25931762e-02, -3.05471141e-02,\n",
       "         3.21456753e-02, -3.27418856e-02, -3.91698405e-02, -6.42965373e-04,\n",
       "         9.88882035e-03,  2.16328306e-03, -2.09599584e-02, -1.03850486e-02,\n",
       "         3.31855379e-02, -4.14851829e-02, -1.11173065e-02,  2.49543469e-02,\n",
       "        -8.82164668e-03,  6.25742599e-02, -2.01719608e-02,  4.37402632e-03,\n",
       "         1.64208561e-02,  1.16861623e-03,  1.19488323e-02, -2.10936647e-02,\n",
       "        -2.69118268e-02,  4.05075215e-03,  4.14334238e-02,  2.27172766e-02,\n",
       "        -4.44422988e-03, -4.16625664e-02, -2.32994854e-02,  7.67508969e-02,\n",
       "         1.39916614e-02, -4.29181010e-02,  9.71987750e-03, -7.40319444e-03,\n",
       "         5.28846234e-02, -1.03905514e-01, -6.77918922e-03, -5.99139705e-02,\n",
       "        -1.01839535e-01, -8.47378559e-03, -3.63575062e-03,  1.05010886e-02,\n",
       "         1.71745140e-02,  1.78236293e-03,  3.31302620e-02, -1.68428738e-02,\n",
       "        -3.82560007e-02, -7.57569820e-02, -5.69971353e-02,  2.85294745e-02,\n",
       "        -1.86445266e-02,  5.52778831e-03,  7.40044490e-02,  1.19855450e-02,\n",
       "         1.30272647e-02,  3.90406661e-02,  7.57632330e-02,  3.48335202e-03,\n",
       "         7.23219290e-02, -3.70272482e-03,  2.16461811e-03, -3.93297859e-02,\n",
       "        -4.16367780e-03,  2.84921899e-02,  2.34383307e-02,  3.51086520e-02,\n",
       "        -4.21183789e-03,  5.32460250e-02,  1.66538171e-03,  2.67577805e-02,\n",
       "        -2.38899756e-02,  4.00500968e-02, -8.74315668e-03, -6.15034513e-02,\n",
       "        -5.90877049e-02, -1.34252375e-02,  3.11709568e-02, -1.80879515e-03,\n",
       "        -6.54651970e-03, -2.79778484e-02, -2.55128257e-02, -2.52402164e-02,\n",
       "         1.80653762e-02,  1.27688227e-02, -2.43605617e-02, -2.37567257e-02,\n",
       "        -2.55654361e-02, -4.23946120e-02,  1.13534695e-02, -2.30433978e-03,\n",
       "         7.74195120e-02, -3.23433690e-02, -6.93600997e-03,  4.73198518e-02,\n",
       "         4.62238789e-02, -5.34009421e-03,  6.26993412e-03,  2.62812506e-02,\n",
       "         5.26044481e-02,  9.69271734e-03, -2.09051650e-02, -2.05738517e-03,\n",
       "        -1.40253976e-02,  5.98465875e-02, -9.48651973e-03, -3.37275267e-02,\n",
       "         1.04678068e-02, -6.12177476e-02, -2.09160037e-02,  1.48446588e-02,\n",
       "         2.41214558e-02, -6.16990477e-02, -8.08267202e-03,  2.54615843e-02,\n",
       "         1.98761430e-02,  4.06279974e-02, -3.84690892e-03, -4.86235246e-02,\n",
       "         7.14112148e-02,  4.99309450e-02,  2.20926348e-02,  1.82303283e-02,\n",
       "        -6.69498136e-03, -1.09518813e-02, -4.05323086e-03,  1.25769163e-02,\n",
       "        -3.58088352e-02,  2.62779258e-02, -4.13760655e-02, -3.23683582e-02,\n",
       "         3.77786607e-02,  6.80429190e-02,  7.87249729e-02,  5.49531132e-02,\n",
       "        -7.23702786e-03,  1.32689243e-02,  1.44546758e-02,  2.34664907e-03,\n",
       "         1.12412618e-02,  5.71516231e-02, -3.52124423e-02, -6.32861331e-02,\n",
       "        -2.43410114e-02,  2.62815263e-02, -1.62936617e-02, -4.52656932e-02,\n",
       "        -1.60298161e-02, -9.83190238e-02,  3.12132966e-02,  1.51075115e-02,\n",
       "         1.50733534e-02,  4.43561859e-02, -8.77509068e-04, -2.20817458e-02,\n",
       "         2.08414458e-02,  1.20562678e-02, -5.68363676e-03, -3.25557888e-02,\n",
       "        -1.76655222e-02,  1.62850861e-02,  5.41041493e-02, -3.65953855e-02,\n",
       "        -2.82312371e-02,  1.39545705e-02, -9.81079936e-02,  4.43972722e-02,\n",
       "        -7.67030939e-02, -2.20101941e-02,  1.14775315e-01,  4.80054766e-02,\n",
       "        -6.08273000e-02, -1.71096921e-02, -3.63460779e-02,  2.02509407e-02,\n",
       "        -4.45577279e-02, -5.19974642e-02, -2.59399489e-02, -2.37872470e-02,\n",
       "         5.38880490e-02, -1.76216755e-02,  1.49168065e-02,  4.13412265e-02,\n",
       "        -6.07404225e-02, -3.41107212e-02, -4.83123362e-02,  7.43591180e-03,\n",
       "        -5.35067208e-02, -1.05138812e-02,  3.75467725e-02,  7.06438348e-02,\n",
       "        -3.89777794e-02,  1.43045327e-02,  1.31065790e-02,  1.10082328e-02,\n",
       "        -2.34966110e-02, -6.55487776e-02, -6.45214468e-02,  3.29486914e-02,\n",
       "         3.50160822e-02, -1.33577678e-02,  6.44280091e-02,  5.66608179e-03,\n",
       "        -2.01310851e-02, -2.57660579e-02,  6.70553558e-03, -8.00956227e-03,\n",
       "        -3.42649482e-02, -8.10296312e-02, -5.61243184e-02, -4.77636280e-03,\n",
       "        -1.89173762e-02, -5.99010587e-02,  1.41229797e-02,  3.72709855e-02,\n",
       "        -2.61915624e-02, -4.71670972e-03, -3.05975974e-02, -6.20417856e-03,\n",
       "        -2.46862578e-03, -3.29129174e-02,  1.30469864e-02, -6.27115220e-02,\n",
       "        -3.85512300e-02,  3.47435959e-02, -2.24631950e-02,  2.30218396e-02,\n",
       "        -5.07524088e-02, -3.51219997e-02,  5.74029163e-02, -4.38316725e-02,\n",
       "        -2.39488948e-02, -1.09282965e-02, -4.04446684e-02,  5.78833967e-02,\n",
       "        -1.03171635e-02,  6.07957095e-02, -2.75074132e-02,  2.17077532e-03,\n",
       "        -1.11375714e-03,  4.01456095e-02, -4.15397361e-02,  3.34933177e-02,\n",
       "        -2.09841859e-02, -7.05884071e-03,  5.79045340e-03,  4.94851498e-03,\n",
       "        -4.25481126e-02, -6.33124355e-03, -2.76148748e-02,  3.43340524e-02,\n",
       "         3.56112793e-02, -1.83126330e-02, -3.23946327e-02, -1.94038628e-04,\n",
       "         1.92885604e-02, -7.18718115e-03,  1.94421653e-02,  2.38331165e-02,\n",
       "         7.89053217e-02, -4.91055846e-03, -6.10126108e-02, -7.18620652e-03,\n",
       "        -9.08863731e-03, -2.85581686e-02,  2.04969011e-02, -6.06009737e-03,\n",
       "        -2.58568712e-02, -3.91170271e-02,  2.10239347e-02, -6.64219959e-03,\n",
       "        -2.12994814e-02,  3.89471054e-02,  2.43215244e-02, -9.21854004e-03,\n",
       "         3.03785633e-02,  7.07355188e-03, -8.31698999e-03,  4.44248952e-02,\n",
       "        -6.92945998e-03, -1.52610987e-02, -1.75954103e-02,  3.06146480e-02,\n",
       "         5.47529534e-02, -3.14596221e-02,  2.60871984e-02, -5.95213181e-33,\n",
       "        -6.57817721e-02, -1.64262345e-03, -3.81474532e-02,  3.61140743e-02,\n",
       "        -1.03607707e-01, -6.01003207e-02,  4.29777149e-03, -7.01683434e-03,\n",
       "        -3.78984958e-02, -2.15776730e-02, -1.57628078e-02,  2.51961201e-02,\n",
       "         6.07841369e-03, -6.39195815e-02,  1.37899881e-02, -2.86894981e-02,\n",
       "        -4.64375038e-03,  4.85471301e-02, -6.30282657e-03,  1.86095387e-02,\n",
       "         2.51424722e-02,  4.19986285e-02,  4.80445148e-03,  2.25904882e-02,\n",
       "         1.62631795e-02, -2.66986135e-02, -2.54977997e-02, -9.63305030e-03,\n",
       "         4.20752494e-03, -2.01918595e-02, -5.24950074e-03, -4.10082005e-03,\n",
       "        -5.25696808e-03,  6.96065079e-04,  1.18324598e-02,  5.14280722e-02,\n",
       "        -1.81983896e-02,  4.03770991e-02, -1.45249730e-02, -1.93870701e-02,\n",
       "         1.81332938e-02, -3.78990285e-02, -1.99407488e-02, -2.48053111e-02,\n",
       "         2.23657954e-03, -2.62533240e-02,  1.80224096e-03,  1.56095363e-02,\n",
       "         1.80855449e-02,  2.50358488e-02,  6.21819124e-03, -3.45664322e-02,\n",
       "        -1.57069433e-02, -5.25061153e-02, -5.42840585e-02, -6.45310506e-02,\n",
       "         1.16663733e-02,  6.63891733e-02,  9.22394264e-03, -5.50699374e-03,\n",
       "         2.58754380e-02,  7.11765587e-02, -1.31615736e-02,  4.00309032e-03,\n",
       "        -4.48682681e-02,  2.23002993e-02,  4.27638777e-02,  4.44703270e-03,\n",
       "        -2.19925214e-02, -1.02593862e-02, -1.06978230e-02,  1.22533562e-02,\n",
       "         2.40889769e-02,  1.22488653e-02, -8.59189034e-02, -8.24833140e-02,\n",
       "        -5.25458232e-02, -1.77102387e-02,  4.45934534e-02,  5.73335998e-02,\n",
       "         1.22053418e-02,  6.98256027e-03,  8.09885189e-02, -3.15339267e-02,\n",
       "        -5.10461442e-02,  8.48341808e-02,  1.18977325e-02,  3.44932973e-02,\n",
       "        -2.68808510e-02, -4.11026627e-02,  4.44445871e-02, -1.80597305e-02,\n",
       "         2.02659704e-02,  2.47074068e-02,  2.63240244e-02,  7.48237735e-03,\n",
       "         3.20162959e-02,  2.51100790e-02,  7.96238706e-03,  4.87727188e-02,\n",
       "         2.85604876e-02,  2.64093988e-02, -1.36126122e-02, -4.77149114e-02,\n",
       "         6.06735051e-02, -6.78492263e-02,  4.21659201e-02, -3.91578935e-02,\n",
       "        -9.38951410e-03,  1.57652993e-03, -8.65792111e-03,  1.54310148e-02,\n",
       "        -5.85184768e-02, -4.13743146e-02, -5.49312718e-02,  6.11458272e-02,\n",
       "         7.42186978e-03,  7.54997227e-03,  8.32299422e-03, -1.59801934e-02,\n",
       "         3.62390876e-02, -7.27019832e-03, -2.87109660e-03,  3.16253752e-02,\n",
       "        -6.42318502e-02,  3.00309826e-02,  2.94498466e-02, -2.74787676e-02,\n",
       "         1.94563121e-02, -2.98021007e-02, -2.78651365e-03, -3.34623568e-02,\n",
       "         2.56291287e-07, -2.86950730e-03, -1.58450007e-02,  2.20884364e-02,\n",
       "        -2.35394668e-02, -6.95662480e-03,  7.58664869e-03,  5.08891530e-02,\n",
       "         7.89674968e-02, -1.37742832e-02, -2.19974127e-02,  3.15368697e-02,\n",
       "         3.68986502e-02,  3.64248990e-04,  1.18280258e-02,  2.70458534e-02,\n",
       "         3.41030993e-02, -5.99222677e-03, -4.77654487e-02,  2.17210352e-02,\n",
       "        -3.38408761e-02,  5.60869239e-02, -6.52867556e-02,  1.63542142e-03,\n",
       "         4.50900793e-02,  6.92119182e-04, -8.30466300e-03, -2.45500132e-02,\n",
       "        -2.86137313e-02, -9.41009969e-02,  6.18053377e-02,  3.15551534e-02,\n",
       "        -1.29525932e-02,  4.02351812e-04,  4.59378911e-03,  2.75269710e-02,\n",
       "        -1.15571860e-02,  3.05355620e-02, -1.46772303e-02,  7.24989548e-03,\n",
       "        -4.22840044e-02, -3.92521508e-02, -3.11824940e-02, -7.27512315e-02,\n",
       "         9.96310115e-02,  3.68894488e-02,  7.78200328e-02,  1.03889555e-02,\n",
       "         3.50689329e-02, -5.06195985e-02,  1.40417283e-02, -3.89065477e-03,\n",
       "         3.85973826e-02, -1.99494418e-02,  2.51077879e-02,  2.22862680e-02,\n",
       "         5.16720191e-02,  5.04749008e-02, -2.73447856e-02,  3.89362834e-02,\n",
       "         7.69017860e-02,  1.98890865e-02,  3.97312976e-02,  2.96761636e-02,\n",
       "         1.93978157e-02, -1.93823911e-02, -6.93159550e-02, -1.82820880e-03,\n",
       "         1.79589570e-34,  2.22860929e-02, -3.86480093e-02, -2.19921977e-03,\n",
       "         3.61354314e-02,  2.53977068e-03, -9.98363551e-03, -3.33228111e-02,\n",
       "        -3.77264768e-02,  2.74046790e-02,  3.60054746e-02, -3.63537669e-03],\n",
       "       dtype=float32)}"
      ]
     },
     "execution_count": 125,
     "metadata": {},
     "output_type": "execute_result"
    }
   ],
   "source": [
    "record_list[0]"
   ]
  },
  {
   "cell_type": "code",
   "execution_count": 126,
   "metadata": {},
   "outputs": [],
   "source": [
    "for record in record_list:\n",
    "    try:\n",
    "        es.index(index=\"satyashah\", document=record)\n",
    "    except Exception as e:\n",
    "        print(e)\n"
   ]
  },
  {
   "cell_type": "code",
   "execution_count": 127,
   "metadata": {},
   "outputs": [
    {
     "data": {
      "text/plain": [
       "ObjectApiResponse({'count': 893, '_shards': {'total': 1, 'successful': 1, 'skipped': 0, 'failed': 0}})"
      ]
     },
     "execution_count": 127,
     "metadata": {},
     "output_type": "execute_result"
    }
   ],
   "source": [
    "es.count(index=\"satyashah\")\n"
   ]
  },
  {
   "cell_type": "code",
   "execution_count": 128,
   "metadata": {},
   "outputs": [
    {
     "data": {
      "text/plain": [
       "[{'_index': 'satyashah',\n",
       "  '_id': '7908to4B7lFPcOZtxIK7',\n",
       "  '_score': 0.48773336,\n",
       "  '_source': {'Director': 'William Friedkin',\n",
       "   'Series_Title': 'The Exorcist',\n",
       "   'Overview': 'When a 12-year-old girl is possessed by a mysterious entity, her mother seeks the help of two priests to save her.',\n",
       "   'Genre': 'Horror'}},\n",
       " {'_index': 'satyashah',\n",
       "  '_id': 'Q908to4B7lFPcOZtxoOq',\n",
       "  '_score': 0.48731494,\n",
       "  '_source': {'Director': 'Edgar Wright',\n",
       "   'Series_Title': 'Shaun of the Dead',\n",
       "   'Overview': \"A man's uneventful life is disrupted by the zombie apocalypse.\",\n",
       "   'Genre': 'Comedy, Horror'}},\n",
       " {'_index': 'satyashah',\n",
       "  '_id': 'mN08to4B7lFPcOZtzoTk',\n",
       "  '_score': 0.48454478,\n",
       "  '_source': {'Director': 'John Carpenter',\n",
       "   'Series_Title': 'Halloween',\n",
       "   'Overview': 'Fifteen years after murdering his sister on Halloween night 1963, Michael Myers escapes from a mental hospital and returns to the small town of Haddonfield, Illinois to kill again.',\n",
       "   'Genre': 'Horror, Thriller'}},\n",
       " {'_index': 'satyashah',\n",
       "  '_id': 'p908to4B7lFPcOZtz4RC',\n",
       "  '_score': 0.47873205,\n",
       "  '_source': {'Director': 'Roman Polanski',\n",
       "   'Series_Title': 'Repulsion',\n",
       "   'Overview': \"A sex-repulsed woman who disapproves of her sister's boyfriend sinks into depression and has horrific visions of rape and violence.\",\n",
       "   'Genre': 'Drama, Horror, Thriller'}},\n",
       " {'_index': 'satyashah',\n",
       "  '_id': 'ld08to4B7lFPcOZtvIG-',\n",
       "  '_score': 0.4651896,\n",
       "  '_source': {'Director': 'Stanley Kubrick',\n",
       "   'Series_Title': 'The Shining',\n",
       "   'Overview': 'A family heads to an isolated hotel for the winter where a sinister presence influences the father into violence, while his psychic son sees horrific forebodings from both past and future.',\n",
       "   'Genre': 'Drama, Horror'}}]"
      ]
     },
     "execution_count": 128,
     "metadata": {},
     "output_type": "execute_result"
    }
   ],
   "source": [
    "#Writing query and fetching results\n",
    "input_keyword = \"HORROR\"\n",
    "vector_of_input_keyword = model.encode(input_keyword)\n",
    "\n",
    "query = {\n",
    "    \"field\" : \"OverviewVector\",\n",
    "    \"query_vector\" : vector_of_input_keyword,\n",
    "    \"k\" : 5,\n",
    "    \"num_candidates\" : 1000, \n",
    "}\n",
    "\n",
    "res = es.knn_search(index=\"satyashah\", knn=query , source=[\"Series_Title\",\"Genre\",\"Director\",\"Overview\"])\n",
    "res[\"hits\"][\"hits\"]\n"
   ]
  },
  {
   "cell_type": "code",
   "execution_count": null,
   "metadata": {},
   "outputs": [],
   "source": []
  },
  {
   "cell_type": "code",
   "execution_count": null,
   "metadata": {},
   "outputs": [],
   "source": []
  },
  {
   "cell_type": "code",
   "execution_count": null,
   "metadata": {},
   "outputs": [],
   "source": []
  }
 ],
 "metadata": {
  "kernelspec": {
   "display_name": "Python 3",
   "language": "python",
   "name": "python3"
  },
  "language_info": {
   "codemirror_mode": {
    "name": "ipython",
    "version": 3
   },
   "file_extension": ".py",
   "mimetype": "text/x-python",
   "name": "python",
   "nbconvert_exporter": "python",
   "pygments_lexer": "ipython3",
   "version": "3.7.8"
  }
 },
 "nbformat": 4,
 "nbformat_minor": 2
}
